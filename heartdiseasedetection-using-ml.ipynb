{
 "cells": [
  {
   "cell_type": "markdown",
   "metadata": {},
   "source": [
    "<h2>Predicting heart disease using machine learning</h2>\n",
    "\n",
    "<h3>Problem Definition</h3>\n",
    "\n",
    "In a statement,\n",
    "> Given clinical parameters about a patient, can we predict whether or not they have heart disease?\n",
    "\n",
    "#Features\n",
    "\n",
    "This is where you'll get different information about each of the features in your data. You can do this via doing your own research (such as looking at the links above) or by talking to a subject matter expert (someone who knows about the dataset).\n",
    "\n",
    "1. `age` - age in years\n",
    "2. `sex` - (1 = male; 0 = female)\n",
    "3. `cp` - chest pain type\n",
    "    * 0: Typical angina: chest pain related decrease blood supply to the heart\n",
    "    * 1: Atypical angina: chest pain not related to heart\n",
    "    * 2: Non-anginal pain: typically esophageal spasms (non heart related)\n",
    "    * 3: Asymptomatic: chest pain not showing signs of disease\n",
    "4. `trestbps` - resting blood pressure (in mm Hg on admission to the hospital) anything above 130-140 is typically cause for concern\n",
    "5. `chol` - serum cholestoral in mg/dl\n",
    "    * serum = LDL + HDL + .2 * triglycerides\n",
    "    * above 200 is cause for concern\n",
    "6. `fbs` - (fasting blood sugar > 120 mg/dl) (1 = true; 0 = false)\n",
    "    * '>126' mg/dL signals diabetes\n",
    "7. `restecg` - resting electrocardiographic results\n",
    "    * 0: Nothing to note\n",
    "    * 1: ST-T Wave abnormality\n",
    "        * can range from mild symptoms to severe problems\n",
    "        * signals non-normal heart beat\n",
    "    * 2: Possible or definite left ventricular hypertrophy\n",
    "        * Enlarged heart's main pumping chamber\n",
    "8. `thalach` - maximum heart rate achieved\n",
    "9. `exang` - exercise induced angina (1 = yes; 0 = no)\n",
    "10. `oldpeak` - ST depression induced by exercise relative to rest looks at stress of heart during excercise unhealthy heart will stress more\n",
    "11. `slope` - the slope of the peak exercise ST segment\n",
    "    * 0: Upsloping: better heart rate with excercise (uncommon)\n",
    "    * 1: Flatsloping: minimal change (typical healthy heart)\n",
    "    * 2: Downslopins: signs of unhealthy heart\n",
    "12. `ca` - number of major vessels (0-3) colored by flourosopy\n",
    "    * colored vessel means the doctor can see the blood passing through\n",
    "    * the more blood movement the better (no clots)\n",
    "13. `thal` - thalium stress result\n",
    "    * 1,3: normal\n",
    "    * 6: fixed defect: used to be defect but ok now\n",
    "    * 7: reversable defect: no proper blood movement when excercising\n",
    "14. `target` - have disease or not (1=yes, 0=no) (= the predicted attribute)"
   ]
  },
  {
   "cell_type": "code",
   "execution_count": null,
   "metadata": {
    "_cell_guid": "b1076dfc-b9ad-4769-8c92-a6c4dae69d19",
    "_uuid": "8f2839f25d086af736a60e9eeb907d3b93b6e0e5",
    "execution": {
     "iopub.execute_input": "2021-10-18T18:47:31.033306Z",
     "iopub.status.busy": "2021-10-18T18:47:31.032142Z",
     "iopub.status.idle": "2021-10-18T18:47:31.054158Z",
     "shell.execute_reply": "2021-10-18T18:47:31.054659Z",
     "shell.execute_reply.started": "2021-10-18T18:46:03.306525Z"
    },
    "papermill": {
     "duration": 0.058108,
     "end_time": "2021-10-18T18:47:31.054971",
     "exception": false,
     "start_time": "2021-10-18T18:47:30.996863",
     "status": "completed"
    },
    "tags": []
   },
   "outputs": [],
   "source": [
    "import numpy as np \n",
    "import pandas as pd "
   ]
  },
  {
   "cell_type": "code",
   "execution_count": null,
   "metadata": {
    "execution": {
     "iopub.execute_input": "2021-10-18T18:47:31.119234Z",
     "iopub.status.busy": "2021-10-18T18:47:31.118551Z",
     "iopub.status.idle": "2021-10-18T18:47:32.085879Z",
     "shell.execute_reply": "2021-10-18T18:47:32.086445Z",
     "shell.execute_reply.started": "2021-10-18T18:46:03.319586Z"
    },
    "papermill": {
     "duration": 1.000751,
     "end_time": "2021-10-18T18:47:32.086690",
     "exception": false,
     "start_time": "2021-10-18T18:47:31.085939",
     "status": "completed"
    },
    "tags": []
   },
   "outputs": [],
   "source": [
    "import numpy as np\n",
    "import pandas as pd\n",
    "import matplotlib.pyplot as plt\n",
    "import seaborn as sns"
   ]
  },
  {
   "cell_type": "markdown",
   "metadata": {
    "papermill": {
     "duration": 0.033863,
     "end_time": "2021-10-18T18:47:32.154220",
     "exception": false,
     "start_time": "2021-10-18T18:47:32.120357",
     "status": "completed"
    },
    "tags": []
   },
   "source": [
    "READING DATASET USING PANDAS"
   ]
  },
  {
   "cell_type": "code",
   "execution_count": null,
   "metadata": {
    "execution": {
     "iopub.execute_input": "2021-10-18T18:47:32.219440Z",
     "iopub.status.busy": "2021-10-18T18:47:32.218769Z",
     "iopub.status.idle": "2021-10-18T18:47:32.258499Z",
     "shell.execute_reply": "2021-10-18T18:47:32.257953Z",
     "shell.execute_reply.started": "2021-10-18T18:46:03.334571Z"
    },
    "papermill": {
     "duration": 0.073647,
     "end_time": "2021-10-18T18:47:32.258643",
     "exception": false,
     "start_time": "2021-10-18T18:47:32.184996",
     "status": "completed"
    },
    "tags": []
   },
   "outputs": [],
   "source": [
    "data=pd.read_csv(\"heart.csv\")\n",
    "data.head()"
   ]
  },
  {
   "cell_type": "code",
   "execution_count": null,
   "metadata": {
    "execution": {
     "iopub.execute_input": "2021-10-18T18:47:32.341311Z",
     "iopub.status.busy": "2021-10-18T18:47:32.340246Z",
     "iopub.status.idle": "2021-10-18T18:47:32.387882Z",
     "shell.execute_reply": "2021-10-18T18:47:32.387372Z",
     "shell.execute_reply.started": "2021-10-18T18:46:03.365403Z"
    },
    "papermill": {
     "duration": 0.097469,
     "end_time": "2021-10-18T18:47:32.388052",
     "exception": false,
     "start_time": "2021-10-18T18:47:32.290583",
     "status": "completed"
    },
    "tags": []
   },
   "outputs": [],
   "source": [
    "data.describe()"
   ]
  },
  {
   "cell_type": "markdown",
   "metadata": {
    "papermill": {
     "duration": 0.03252,
     "end_time": "2021-10-18T18:47:32.453321",
     "exception": false,
     "start_time": "2021-10-18T18:47:32.420801",
     "status": "completed"
    },
    "tags": []
   },
   "source": [
    "CHECKING FOR NULL OR NAN VALUES:"
   ]
  },
  {
   "cell_type": "code",
   "execution_count": null,
   "metadata": {
    "execution": {
     "iopub.execute_input": "2021-10-18T18:47:32.533997Z",
     "iopub.status.busy": "2021-10-18T18:47:32.533168Z",
     "iopub.status.idle": "2021-10-18T18:47:32.537157Z",
     "shell.execute_reply": "2021-10-18T18:47:32.536517Z",
     "shell.execute_reply.started": "2021-10-18T18:46:03.414749Z"
    },
    "papermill": {
     "duration": 0.05081,
     "end_time": "2021-10-18T18:47:32.537301",
     "exception": false,
     "start_time": "2021-10-18T18:47:32.486491",
     "status": "completed"
    },
    "tags": []
   },
   "outputs": [],
   "source": [
    "data.info()"
   ]
  },
  {
   "cell_type": "code",
   "execution_count": null,
   "metadata": {
    "execution": {
     "iopub.execute_input": "2021-10-18T18:47:32.611185Z",
     "iopub.status.busy": "2021-10-18T18:47:32.609974Z",
     "iopub.status.idle": "2021-10-18T18:47:32.614268Z",
     "shell.execute_reply": "2021-10-18T18:47:32.613703Z",
     "shell.execute_reply.started": "2021-10-18T18:46:03.434007Z"
    },
    "papermill": {
     "duration": 0.04505,
     "end_time": "2021-10-18T18:47:32.614414",
     "exception": false,
     "start_time": "2021-10-18T18:47:32.569364",
     "status": "completed"
    },
    "tags": []
   },
   "outputs": [],
   "source": [
    "data.isna().any()"
   ]
  },
  {
   "cell_type": "code",
   "execution_count": null,
   "metadata": {
    "execution": {
     "iopub.execute_input": "2021-10-18T18:47:32.685999Z",
     "iopub.status.busy": "2021-10-18T18:47:32.685002Z",
     "iopub.status.idle": "2021-10-18T18:47:32.692862Z",
     "shell.execute_reply": "2021-10-18T18:47:32.692365Z",
     "shell.execute_reply.started": "2021-10-18T18:46:03.451249Z"
    },
    "papermill": {
     "duration": 0.045679,
     "end_time": "2021-10-18T18:47:32.693024",
     "exception": false,
     "start_time": "2021-10-18T18:47:32.647345",
     "status": "completed"
    },
    "tags": []
   },
   "outputs": [],
   "source": [
    "data.skew()"
   ]
  },
  {
   "cell_type": "markdown",
   "metadata": {
    "papermill": {
     "duration": 0.032623,
     "end_time": "2021-10-18T18:47:32.758390",
     "exception": false,
     "start_time": "2021-10-18T18:47:32.725767",
     "status": "completed"
    },
    "tags": []
   },
   "source": [
    "SINCE THERE IS NO SKEW SO WE CAN  CONSIDER EVERY FEATURES IN CONSIDERATION. "
   ]
  },
  {
   "cell_type": "markdown",
   "metadata": {
    "papermill": {
     "duration": 0.03266,
     "end_time": "2021-10-18T18:47:32.824358",
     "exception": false,
     "start_time": "2021-10-18T18:47:32.791698",
     "status": "completed"
    },
    "tags": []
   },
   "source": [
    "VISUALIZING THE GIVEN DATAS"
   ]
  },
  {
   "cell_type": "code",
   "execution_count": null,
   "metadata": {
    "execution": {
     "iopub.execute_input": "2021-10-18T18:47:32.907866Z",
     "iopub.status.busy": "2021-10-18T18:47:32.900688Z",
     "iopub.status.idle": "2021-10-18T18:47:34.781993Z",
     "shell.execute_reply": "2021-10-18T18:47:34.782456Z",
     "shell.execute_reply.started": "2021-10-18T18:46:03.464926Z"
    },
    "papermill": {
     "duration": 1.925418,
     "end_time": "2021-10-18T18:47:34.782646",
     "exception": false,
     "start_time": "2021-10-18T18:47:32.857228",
     "status": "completed"
    },
    "tags": []
   },
   "outputs": [],
   "source": [
    "sns.barplot(x='age',y='target',data=data)"
   ]
  },
  {
   "cell_type": "code",
   "execution_count": null,
   "metadata": {
    "execution": {
     "iopub.execute_input": "2021-10-18T18:47:34.858787Z",
     "iopub.status.busy": "2021-10-18T18:47:34.857389Z",
     "iopub.status.idle": "2021-10-18T18:47:35.077555Z",
     "shell.execute_reply": "2021-10-18T18:47:35.078091Z",
     "shell.execute_reply.started": "2021-10-18T18:46:04.976687Z"
    },
    "papermill": {
     "duration": 0.262036,
     "end_time": "2021-10-18T18:47:35.078283",
     "exception": false,
     "start_time": "2021-10-18T18:47:34.816247",
     "status": "completed"
    },
    "tags": []
   },
   "outputs": [],
   "source": [
    "sns.barplot(x='sex',y='target',data=data)"
   ]
  },
  {
   "cell_type": "code",
   "execution_count": null,
   "metadata": {
    "execution": {
     "iopub.execute_input": "2021-10-18T18:47:35.151995Z",
     "iopub.status.busy": "2021-10-18T18:47:35.151020Z",
     "iopub.status.idle": "2021-10-18T18:47:35.156102Z",
     "shell.execute_reply": "2021-10-18T18:47:35.156604Z",
     "shell.execute_reply.started": "2021-10-18T18:46:05.223344Z"
    },
    "papermill": {
     "duration": 0.043477,
     "end_time": "2021-10-18T18:47:35.156778",
     "exception": false,
     "start_time": "2021-10-18T18:47:35.113301",
     "status": "completed"
    },
    "tags": []
   },
   "outputs": [],
   "source": [
    "X=data.iloc[:,[1,2,3,4,5,6,7,8,9,10,11,12,13]]"
   ]
  },
  {
   "cell_type": "code",
   "execution_count": null,
   "metadata": {
    "execution": {
     "iopub.execute_input": "2021-10-18T18:47:35.229540Z",
     "iopub.status.busy": "2021-10-18T18:47:35.228572Z",
     "iopub.status.idle": "2021-10-18T18:47:38.626780Z",
     "shell.execute_reply": "2021-10-18T18:47:38.626243Z",
     "shell.execute_reply.started": "2021-10-18T18:46:05.230948Z"
    },
    "papermill": {
     "duration": 3.435772,
     "end_time": "2021-10-18T18:47:38.626936",
     "exception": false,
     "start_time": "2021-10-18T18:47:35.191164",
     "status": "completed"
    },
    "tags": []
   },
   "outputs": [],
   "source": [
    "X.hist(bins=50,figsize=(25,15))\n",
    "plt.show()"
   ]
  },
  {
   "cell_type": "code",
   "execution_count": null,
   "metadata": {
    "execution": {
     "iopub.execute_input": "2021-10-18T18:47:38.707260Z",
     "iopub.status.busy": "2021-10-18T18:47:38.706547Z",
     "iopub.status.idle": "2021-10-18T18:48:33.957938Z",
     "shell.execute_reply": "2021-10-18T18:48:33.958457Z",
     "shell.execute_reply.started": "2021-10-18T18:46:08.407663Z"
    },
    "papermill": {
     "duration": 55.294589,
     "end_time": "2021-10-18T18:48:33.958642",
     "exception": false,
     "start_time": "2021-10-18T18:47:38.664053",
     "status": "completed"
    },
    "tags": []
   },
   "outputs": [],
   "source": [
    "sns.heatmap(data,annot=True)"
   ]
  },
  {
   "cell_type": "code",
   "execution_count": null,
   "metadata": {
    "execution": {
     "iopub.execute_input": "2021-10-18T18:48:34.041722Z",
     "iopub.status.busy": "2021-10-18T18:48:34.041013Z",
     "iopub.status.idle": "2021-10-18T18:48:34.232510Z",
     "shell.execute_reply": "2021-10-18T18:48:34.231318Z",
     "shell.execute_reply.started": "2021-10-18T18:47:01.041121Z"
    },
    "papermill": {
     "duration": 0.235415,
     "end_time": "2021-10-18T18:48:34.232667",
     "exception": false,
     "start_time": "2021-10-18T18:48:33.997252",
     "status": "completed"
    },
    "tags": []
   },
   "outputs": [],
   "source": [
    "from sklearn.model_selection import train_test_split"
   ]
  },
  {
   "cell_type": "code",
   "execution_count": null,
   "metadata": {
    "execution": {
     "iopub.execute_input": "2021-10-18T18:48:34.320982Z",
     "iopub.status.busy": "2021-10-18T18:48:34.320025Z",
     "iopub.status.idle": "2021-10-18T18:48:34.323101Z",
     "shell.execute_reply": "2021-10-18T18:48:34.322465Z",
     "shell.execute_reply.started": "2021-10-18T18:47:01.219491Z"
    },
    "papermill": {
     "duration": 0.050497,
     "end_time": "2021-10-18T18:48:34.323246",
     "exception": false,
     "start_time": "2021-10-18T18:48:34.272749",
     "status": "completed"
    },
    "tags": []
   },
   "outputs": [],
   "source": [
    "y=data[\"target\"].values\n",
    "x=data.iloc[:,[1,2,3,4,5,6,7,8,9,10,11,12,13]].values"
   ]
  },
  {
   "cell_type": "code",
   "execution_count": null,
   "metadata": {
    "execution": {
     "iopub.execute_input": "2021-10-18T18:48:34.407815Z",
     "iopub.status.busy": "2021-10-18T18:48:34.407191Z",
     "iopub.status.idle": "2021-10-18T18:48:34.410016Z",
     "shell.execute_reply": "2021-10-18T18:48:34.410557Z",
     "shell.execute_reply.started": "2021-10-18T18:47:01.229970Z"
    },
    "papermill": {
     "duration": 0.048645,
     "end_time": "2021-10-18T18:48:34.410886",
     "exception": false,
     "start_time": "2021-10-18T18:48:34.362241",
     "status": "completed"
    },
    "tags": []
   },
   "outputs": [],
   "source": [
    "trainx,testx,trainy,testy=train_test_split(x,y,test_size=0.2)"
   ]
  },
  {
   "cell_type": "markdown",
   "metadata": {
    "papermill": {
     "duration": 0.039582,
     "end_time": "2021-10-18T18:48:34.491475",
     "exception": false,
     "start_time": "2021-10-18T18:48:34.451893",
     "status": "completed"
    },
    "tags": []
   },
   "source": [
    "Creating and Training the Model:"
   ]
  },
  {
   "cell_type": "code",
   "execution_count": null,
   "metadata": {
    "execution": {
     "iopub.execute_input": "2021-10-18T18:48:34.574700Z",
     "iopub.status.busy": "2021-10-18T18:48:34.573927Z",
     "iopub.status.idle": "2021-10-18T18:48:34.658886Z",
     "shell.execute_reply": "2021-10-18T18:48:34.659417Z",
     "shell.execute_reply.started": "2021-10-18T18:47:01.242097Z"
    },
    "papermill": {
     "duration": 0.129066,
     "end_time": "2021-10-18T18:48:34.659608",
     "exception": false,
     "start_time": "2021-10-18T18:48:34.530542",
     "status": "completed"
    },
    "tags": []
   },
   "outputs": [],
   "source": [
    "from sklearn.linear_model import LogisticRegression\n",
    "from sklearn.preprocessing import StandardScaler"
   ]
  },
  {
   "cell_type": "code",
   "execution_count": null,
   "metadata": {
    "execution": {
     "iopub.execute_input": "2021-10-18T18:48:34.742077Z",
     "iopub.status.busy": "2021-10-18T18:48:34.739997Z",
     "iopub.status.idle": "2021-10-18T18:48:34.746258Z",
     "shell.execute_reply": "2021-10-18T18:48:34.745723Z",
     "shell.execute_reply.started": "2021-10-18T18:47:01.322857Z"
    },
    "papermill": {
     "duration": 0.047898,
     "end_time": "2021-10-18T18:48:34.746396",
     "exception": false,
     "start_time": "2021-10-18T18:48:34.698498",
     "status": "completed"
    },
    "tags": []
   },
   "outputs": [],
   "source": [
    "sc=StandardScaler()\n",
    "xtrain=sc.fit_transform(trainx)\n",
    "xtest=sc.transform(testx)"
   ]
  },
  {
   "cell_type": "code",
   "execution_count": null,
   "metadata": {
    "execution": {
     "iopub.execute_input": "2021-10-18T18:48:34.828873Z",
     "iopub.status.busy": "2021-10-18T18:48:34.828075Z",
     "iopub.status.idle": "2021-10-18T18:48:34.830724Z",
     "shell.execute_reply": "2021-10-18T18:48:34.830209Z",
     "shell.execute_reply.started": "2021-10-18T18:47:01.331607Z"
    },
    "papermill": {
     "duration": 0.045721,
     "end_time": "2021-10-18T18:48:34.830862",
     "exception": false,
     "start_time": "2021-10-18T18:48:34.785141",
     "status": "completed"
    },
    "tags": []
   },
   "outputs": [],
   "source": [
    "model=LogisticRegression()"
   ]
  },
  {
   "cell_type": "code",
   "execution_count": null,
   "metadata": {
    "execution": {
     "iopub.execute_input": "2021-10-18T18:48:34.915847Z",
     "iopub.status.busy": "2021-10-18T18:48:34.914977Z",
     "iopub.status.idle": "2021-10-18T18:48:34.935395Z",
     "shell.execute_reply": "2021-10-18T18:48:34.936002Z",
     "shell.execute_reply.started": "2021-10-18T18:47:01.340573Z"
    },
    "papermill": {
     "duration": 0.065839,
     "end_time": "2021-10-18T18:48:34.936195",
     "exception": false,
     "start_time": "2021-10-18T18:48:34.870356",
     "status": "completed"
    },
    "tags": []
   },
   "outputs": [],
   "source": [
    "model.fit(xtrain,trainy)"
   ]
  },
  {
   "cell_type": "code",
   "execution_count": null,
   "metadata": {
    "execution": {
     "iopub.execute_input": "2021-10-18T18:48:35.067895Z",
     "iopub.status.busy": "2021-10-18T18:48:35.067135Z",
     "iopub.status.idle": "2021-10-18T18:48:35.070044Z",
     "shell.execute_reply": "2021-10-18T18:48:35.069528Z",
     "shell.execute_reply.started": "2021-10-18T18:47:01.376512Z"
    },
    "papermill": {
     "duration": 0.069015,
     "end_time": "2021-10-18T18:48:35.070188",
     "exception": false,
     "start_time": "2021-10-18T18:48:35.001173",
     "status": "completed"
    },
    "tags": []
   },
   "outputs": [],
   "source": [
    "pred=model.predict(testx)"
   ]
  },
  {
   "cell_type": "code",
   "execution_count": null,
   "metadata": {
    "execution": {
     "iopub.execute_input": "2021-10-18T18:48:35.153057Z",
     "iopub.status.busy": "2021-10-18T18:48:35.152049Z",
     "iopub.status.idle": "2021-10-18T18:48:35.155776Z",
     "shell.execute_reply": "2021-10-18T18:48:35.156350Z",
     "shell.execute_reply.started": "2021-10-18T18:47:01.384642Z"
    },
    "papermill": {
     "duration": 0.047057,
     "end_time": "2021-10-18T18:48:35.156530",
     "exception": false,
     "start_time": "2021-10-18T18:48:35.109473",
     "status": "completed"
    },
    "tags": []
   },
   "outputs": [],
   "source": [
    "from sklearn.metrics import accuracy_score"
   ]
  },
  {
   "cell_type": "code",
   "execution_count": null,
   "metadata": {
    "execution": {
     "iopub.execute_input": "2021-10-18T18:48:35.242057Z",
     "iopub.status.busy": "2021-10-18T18:48:35.241334Z",
     "iopub.status.idle": "2021-10-18T18:48:35.244250Z",
     "shell.execute_reply": "2021-10-18T18:48:35.244765Z",
     "shell.execute_reply.started": "2021-10-18T18:47:01.401442Z"
    },
    "papermill": {
     "duration": 0.048576,
     "end_time": "2021-10-18T18:48:35.244958",
     "exception": false,
     "start_time": "2021-10-18T18:48:35.196382",
     "status": "completed"
    },
    "tags": []
   },
   "outputs": [],
   "source": [
    "print(accuracy_score(testy,pred)*100)"
   ]
  },
  {
   "cell_type": "code",
   "execution_count": null,
   "metadata": {
    "execution": {
     "iopub.execute_input": "2021-10-18T18:48:35.334955Z",
     "iopub.status.busy": "2021-10-18T18:48:35.334171Z",
     "iopub.status.idle": "2021-10-18T18:48:35.336598Z",
     "shell.execute_reply": "2021-10-18T18:48:35.337126Z",
     "shell.execute_reply.started": "2021-10-18T18:47:01.411451Z"
    },
    "papermill": {
     "duration": 0.051109,
     "end_time": "2021-10-18T18:48:35.337304",
     "exception": false,
     "start_time": "2021-10-18T18:48:35.286195",
     "status": "completed"
    },
    "tags": []
   },
   "outputs": [],
   "source": [
    "from sklearn.metrics import mean_squared_error"
   ]
  },
  {
   "cell_type": "code",
   "execution_count": null,
   "metadata": {
    "execution": {
     "iopub.execute_input": "2021-10-18T18:48:35.421886Z",
     "iopub.status.busy": "2021-10-18T18:48:35.420925Z",
     "iopub.status.idle": "2021-10-18T18:48:35.427019Z",
     "shell.execute_reply": "2021-10-18T18:48:35.427744Z",
     "shell.execute_reply.started": "2021-10-18T18:47:01.420648Z"
    },
    "papermill": {
     "duration": 0.04943,
     "end_time": "2021-10-18T18:48:35.427998",
     "exception": false,
     "start_time": "2021-10-18T18:48:35.378568",
     "status": "completed"
    },
    "tags": []
   },
   "outputs": [],
   "source": [
    "mse = mean_squared_error(testy,pred)\n",
    "print(mse)"
   ]
  },
  {
   "cell_type": "code",
   "execution_count": null,
   "metadata": {
    "execution": {
     "iopub.execute_input": "2021-10-18T18:48:35.514106Z",
     "iopub.status.busy": "2021-10-18T18:48:35.513378Z",
     "iopub.status.idle": "2021-10-18T18:48:35.520001Z",
     "shell.execute_reply": "2021-10-18T18:48:35.519392Z",
     "shell.execute_reply.started": "2021-10-18T18:47:01.433551Z"
    },
    "papermill": {
     "duration": 0.049642,
     "end_time": "2021-10-18T18:48:35.520154",
     "exception": false,
     "start_time": "2021-10-18T18:48:35.470512",
     "status": "completed"
    },
    "tags": []
   },
   "outputs": [],
   "source": [
    "def plotgraph(testy,pred,regressorName):\n",
    "    if max(testy)>=max(pred):\n",
    "        myrange=int(max(testy))\n",
    "    else:\n",
    "        myrange=int(max(pred))\n",
    "    plt.scatter(testy,pred,color=\"red\")\n",
    "    plt.plot(range(myrange),range(myrange),'o')\n",
    "    plt.title(regressorName)\n",
    "    plt.show()\n",
    "    return"
   ]
  },
  {
   "cell_type": "code",
   "execution_count": null,
   "metadata": {
    "execution": {
     "iopub.execute_input": "2021-10-18T18:48:35.623857Z",
     "iopub.status.busy": "2021-10-18T18:48:35.623148Z",
     "iopub.status.idle": "2021-10-18T18:48:35.814245Z",
     "shell.execute_reply": "2021-10-18T18:48:35.815215Z",
     "shell.execute_reply.started": "2021-10-18T18:47:01.448720Z"
    },
    "papermill": {
     "duration": 0.254793,
     "end_time": "2021-10-18T18:48:35.815504",
     "exception": false,
     "start_time": "2021-10-18T18:48:35.560711",
     "status": "completed"
    },
    "tags": []
   },
   "outputs": [],
   "source": [
    "print(plotgraph(testy,pred,LogisticRegression))"
   ]
  },
  {
   "cell_type": "code",
   "execution_count": null,
   "metadata": {
    "execution": {
     "iopub.execute_input": "2021-10-18T18:48:35.902107Z",
     "iopub.status.busy": "2021-10-18T18:48:35.901448Z",
     "iopub.status.idle": "2021-10-18T18:48:35.908875Z",
     "shell.execute_reply": "2021-10-18T18:48:35.908332Z",
     "shell.execute_reply.started": "2021-10-18T18:47:01.669689Z"
    },
    "papermill": {
     "duration": 0.051186,
     "end_time": "2021-10-18T18:48:35.909033",
     "exception": false,
     "start_time": "2021-10-18T18:48:35.857847",
     "status": "completed"
    },
    "tags": []
   },
   "outputs": [],
   "source": [
    "from sklearn.naive_bayes import GaussianNB"
   ]
  },
  {
   "cell_type": "code",
   "execution_count": null,
   "metadata": {
    "execution": {
     "iopub.execute_input": "2021-10-18T18:48:35.996067Z",
     "iopub.status.busy": "2021-10-18T18:48:35.995398Z",
     "iopub.status.idle": "2021-10-18T18:48:36.000723Z",
     "shell.execute_reply": "2021-10-18T18:48:36.001304Z",
     "shell.execute_reply.started": "2021-10-18T18:47:01.677937Z"
    },
    "papermill": {
     "duration": 0.050679,
     "end_time": "2021-10-18T18:48:36.001480",
     "exception": false,
     "start_time": "2021-10-18T18:48:35.950801",
     "status": "completed"
    },
    "tags": []
   },
   "outputs": [],
   "source": [
    "model1=GaussianNB()\n",
    "model1.fit(xtrain,trainy)\n",
    "pred1=model.predict(xtest)"
   ]
  },
  {
   "cell_type": "code",
   "execution_count": null,
   "metadata": {
    "execution": {
     "iopub.execute_input": "2021-10-18T18:48:36.088141Z",
     "iopub.status.busy": "2021-10-18T18:48:36.087405Z",
     "iopub.status.idle": "2021-10-18T18:48:36.092492Z",
     "shell.execute_reply": "2021-10-18T18:48:36.093501Z",
     "shell.execute_reply.started": "2021-10-18T18:47:01.689131Z"
    },
    "papermill": {
     "duration": 0.050438,
     "end_time": "2021-10-18T18:48:36.093743",
     "exception": false,
     "start_time": "2021-10-18T18:48:36.043305",
     "status": "completed"
    },
    "tags": []
   },
   "outputs": [],
   "source": [
    "print(accuracy_score(testy,pred1)*100)"
   ]
  },
  {
   "cell_type": "code",
   "execution_count": null,
   "metadata": {
    "execution": {
     "iopub.execute_input": "2021-10-18T18:48:36.180659Z",
     "iopub.status.busy": "2021-10-18T18:48:36.180040Z",
     "iopub.status.idle": "2021-10-18T18:48:36.184701Z",
     "shell.execute_reply": "2021-10-18T18:48:36.184133Z",
     "shell.execute_reply.started": "2021-10-18T18:47:01.699760Z"
    },
    "papermill": {
     "duration": 0.049157,
     "end_time": "2021-10-18T18:48:36.184843",
     "exception": false,
     "start_time": "2021-10-18T18:48:36.135686",
     "status": "completed"
    },
    "tags": []
   },
   "outputs": [],
   "source": [
    "from sklearn.svm import SVC"
   ]
  },
  {
   "cell_type": "code",
   "execution_count": null,
   "metadata": {
    "execution": {
     "iopub.execute_input": "2021-10-18T18:48:36.270986Z",
     "iopub.status.busy": "2021-10-18T18:48:36.270166Z",
     "iopub.status.idle": "2021-10-18T18:48:36.282101Z",
     "shell.execute_reply": "2021-10-18T18:48:36.282576Z",
     "shell.execute_reply.started": "2021-10-18T18:47:01.710503Z"
    },
    "papermill": {
     "duration": 0.056631,
     "end_time": "2021-10-18T18:48:36.282761",
     "exception": false,
     "start_time": "2021-10-18T18:48:36.226130",
     "status": "completed"
    },
    "tags": []
   },
   "outputs": [],
   "source": [
    "model3=SVC()\n",
    "model3.fit(xtrain,trainy)\n",
    "pred2=model.predict(xtest)"
   ]
  },
  {
   "cell_type": "code",
   "execution_count": null,
   "metadata": {
    "execution": {
     "iopub.execute_input": "2021-10-18T18:48:36.376121Z",
     "iopub.status.busy": "2021-10-18T18:48:36.375445Z",
     "iopub.status.idle": "2021-10-18T18:48:36.378613Z",
     "shell.execute_reply": "2021-10-18T18:48:36.379116Z",
     "shell.execute_reply.started": "2021-10-18T18:47:01.731457Z"
    },
    "papermill": {
     "duration": 0.052325,
     "end_time": "2021-10-18T18:48:36.379297",
     "exception": false,
     "start_time": "2021-10-18T18:48:36.326972",
     "status": "completed"
    },
    "tags": []
   },
   "outputs": [],
   "source": [
    "print(accuracy_score(testy,pred2)*100)"
   ]
  },
  {
   "cell_type": "code",
   "execution_count": null,
   "metadata": {
    "execution": {
     "iopub.execute_input": "2021-10-18T18:48:36.472126Z",
     "iopub.status.busy": "2021-10-18T18:48:36.471366Z",
     "iopub.status.idle": "2021-10-18T18:48:36.474531Z",
     "shell.execute_reply": "2021-10-18T18:48:36.475374Z",
     "shell.execute_reply.started": "2021-10-18T18:47:01.741425Z"
    },
    "papermill": {
     "duration": 0.054118,
     "end_time": "2021-10-18T18:48:36.475601",
     "exception": false,
     "start_time": "2021-10-18T18:48:36.421483",
     "status": "completed"
    },
    "tags": []
   },
   "outputs": [],
   "source": [
    "input=[[53,1,0,140,203,1,0,155,1,3.1,0,0,3]]\n",
    "if model.predict(input)==[0]:\n",
    "    print(\"Patient is Normal.\")\n",
    "elif model.predict(input)==[1]:\n",
    "    print(\"Patient has Heart disease\")"
   ]
  },
  {
   "cell_type": "markdown",
   "metadata": {
    "papermill": {
     "duration": 0.041957,
     "end_time": "2021-10-18T18:48:36.562548",
     "exception": false,
     "start_time": "2021-10-18T18:48:36.520591",
     "status": "completed"
    },
    "tags": []
   },
   "source": [
    "***FROM THE ABOVE DATAS WE CAME TO CLEAR CONCLUSION THAT COMPARED WITH LOGISTIC REGRESSION MODEL NAIVEBAYES AND SUPPORT VECTOR CLASSIFIER ARE GREAT WITH THE ACCURACY OF 100***\n"
   ]
  }
 ],
 "metadata": {
  "kernelspec": {
   "display_name": "Python 3",
   "language": "python",
   "name": "python3"
  },
  "language_info": {
   "codemirror_mode": {
    "name": "ipython",
    "version": 3
   },
   "file_extension": ".py",
   "mimetype": "text/x-python",
   "name": "python",
   "nbconvert_exporter": "python",
   "pygments_lexer": "ipython3",
   "version": "3.8.5"
  },
  "papermill": {
   "default_parameters": {},
   "duration": 75.883792,
   "end_time": "2021-10-18T18:48:38.324270",
   "environment_variables": {},
   "exception": null,
   "input_path": "__notebook__.ipynb",
   "output_path": "__notebook__.ipynb",
   "parameters": {},
   "start_time": "2021-10-18T18:47:22.440478",
   "version": "2.3.3"
  }
 },
 "nbformat": 4,
 "nbformat_minor": 5
}
